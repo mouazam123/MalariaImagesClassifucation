{
  "nbformat": 4,
  "nbformat_minor": 0,
  "metadata": {
    "colab": {
      "provenance": []
    },
    "kernelspec": {
      "name": "python3",
      "display_name": "Python 3"
    },
    "language_info": {
      "name": "python"
    }
  },
  "cells": [
    {
      "cell_type": "code",
      "execution_count": null,
      "metadata": {
        "colab": {
          "base_uri": "https://localhost:8080/"
        },
        "id": "OMnRxBYYM39a",
        "outputId": "79084773-1991-469a-a72c-f3db5523875b"
      },
      "outputs": [
        {
          "output_type": "stream",
          "name": "stderr",
          "text": [
            "<ipython-input-1-22efd4ce922b>:12: UserWarning: viewer requires Qt\n",
            "  import skimage.viewer\n"
          ]
        }
      ],
      "source": [
        "import cv2\n",
        "import imutils\n",
        "import numpy as np\n",
        "import matplotlib.pyplot as pyplot\n",
        "from os import listdir\n",
        "%matplotlib inline\n",
        "from skimage import io\n",
        "import pandas as pd\n",
        "import os\n",
        "import skimage\n",
        "import skimage.feature\n",
        "import skimage.viewer\n",
        "import imutils"
      ]
    },
    {
      "cell_type": "code",
      "source": [
        "source1 = os.path.join('/content/drive/MyDrive/Our_Data/Thesis/LargeData/OriginalData/train/Parasitized')\n",
        "print(len(os.listdir(source1)))\n",
        "destestination1 = os.path.join('/content/drive/MyDrive/Our_Data/Thesis/LargeData/CannyData/train/Parasitized')\n",
        "print(len(os.listdir(destestination1)))"
      ],
      "metadata": {
        "colab": {
          "base_uri": "https://localhost:8080/"
        },
        "id": "ARWJPPjSOZGv",
        "outputId": "9c38c195-bd33-41b5-cd91-5edb51cb2ef4"
      },
      "execution_count": null,
      "outputs": [
        {
          "output_type": "stream",
          "name": "stdout",
          "text": [
            "13207\n",
            "13207\n"
          ]
        }
      ]
    },
    {
      "cell_type": "code",
      "source": [
        "N_samples = len(os.listdir(source1))\n",
        "samples_number = os.listdir(source1)\n",
        "pyplot.figure(figsize=(15,3))\n",
        "print(\"{} Parasited images: view of {} samples\".format(len(os.listdir(source)), N_samples))\n",
        "i = 0\n",
        "while i < N_samples:\n",
        "  img = cv2.imread(os.path.join(source1, samples_number[i]),0)\n",
        "  edges = skimage.feature.canny(\n",
        "    image=img,\n",
        "    sigma=0.8,\n",
        "    low_threshold=16,\n",
        "    high_threshold=30,)\n",
        "  image_name = os.path.basename(os.path.join((samples_number[i])))\n",
        "  io.imsave(os.path.join(destestination1, f'{str(image_name)}'),edges)\n",
        "  print(i)\n",
        "  print(image_name)\n",
        "  i+=1"
      ],
      "metadata": {
        "id": "o3VSn8UOPHch"
      },
      "execution_count": null,
      "outputs": []
    },
    {
      "cell_type": "code",
      "source": [
        "source4 = os.path.join('/content/drive/MyDrive/Our_Data/Thesis/LargeData/OriginalData/test/Uninfected')\n",
        "print(len(os.listdir(source4)))\n",
        "destestination4 = os.path.join('/content/drive/MyDrive/Our_Data/Thesis/LargeData/ScroppedData/test/Uninfected2')\n",
        "print(len(os.listdir(destestination4)))"
      ],
      "metadata": {
        "colab": {
          "base_uri": "https://localhost:8080/"
        },
        "id": "n-BpH19ONou1",
        "outputId": "9648d64b-64aa-45ac-9aaf-a92dbd7a74d0"
      },
      "execution_count": null,
      "outputs": [
        {
          "output_type": "stream",
          "name": "stdout",
          "text": [
            "3300\n",
            "3300\n"
          ]
        }
      ]
    },
    {
      "cell_type": "code",
      "source": [
        "N_samples = len(os.listdir(source4))\n",
        "samples_number = os.listdir(source4)\n",
        "pyplot.figure(figsize=(15,3))\n",
        "print(\"{} Parasited images: view of {} samples\".format(len(os.listdir(source4)), N_samples))\n",
        "i = 0\n",
        "while i < N_samples:\n",
        "\n",
        "  img = cv2.imread(os.path.join(source4, samples_number[i]))\n",
        "  grayscale = cv2.cvtColor(img, cv2.COLOR_BGR2GRAY)\n",
        "  grayscale = cv2.GaussianBlur(grayscale, (5, 5), 0)\n",
        "  threshold_image = cv2.threshold(grayscale, 90, 255, cv2.THRESH_BINARY)[1]\n",
        "  threshold_image = cv2.erode(threshold_image, None, iterations=2)\n",
        "  threshold_image = cv2.dilate(threshold_image, None, iterations=2)\n",
        "\n",
        "  contour = cv2.findContours(threshold_image.copy(), cv2.RETR_EXTERNAL, cv2.CHAIN_APPROX_SIMPLE)\n",
        "  contour = imutils.grab_contours(contour)\n",
        "  c = max(contour, key=cv2.contourArea)\n",
        "\n",
        "  extreme_pnts_left = tuple(c[c[:, :, 0].argmin()][0])\n",
        "  extreme_pnts_right = tuple(c[c[:, :, 0].argmax()][0])\n",
        "  extreme_pnts_top = tuple(c[c[:, :, 1].argmin()][0])\n",
        "  extreme_pnts_bot = tuple(c[c[:,  :, 1].argmax()][0])\n",
        "  img_cropped = img[extreme_pnts_top[1]:extreme_pnts_bot[1], extreme_pnts_left[0]:extreme_pnts_right[0]]\n",
        "\n",
        "  image_name = os.path.basename(os.path.join((samples_number[i])))\n",
        "  io.imsave(os.path.join(destestination4, f'{str(image_name)}'),img_cropped)\n",
        "  print(i)\n",
        "  print(image_name)\n",
        "  i+=1"
      ],
      "metadata": {
        "id": "V9XClAxoNok8"
      },
      "execution_count": null,
      "outputs": []
    }
  ]
}